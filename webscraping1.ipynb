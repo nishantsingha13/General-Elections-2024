{
 "cells": [
  {
   "cell_type": "code",
   "execution_count": 1,
   "id": "8d885209-193f-4931-994f-2411d1eeda3f",
   "metadata": {},
   "outputs": [],
   "source": [
    "import requests\n",
    "from bs4 import BeautifulSoup\n",
    "import json\n",
    "import os\n",
    "import pandas as pd"
   ]
  },
  {
   "cell_type": "code",
   "execution_count": 2,
   "id": "aa69e419-0345-42e3-b9c6-0220192e84cd",
   "metadata": {},
   "outputs": [],
   "source": [
    "# Determine the path to the desktop\n",
    "desktop_path = os.path.join(os.path.expanduser('~'), 'Desktop')\n",
    "\n",
    "# Path to the text file containing URLs on the desktop\n",
    "urls_file_path = os.path.join(desktop_path, 'ECI 2024 Party Wise Results.txt')\n"
   ]
  },
  {
   "cell_type": "code",
   "execution_count": 3,
   "id": "9cb5213c-9de8-4ed0-a909-4b30e70abe5a",
   "metadata": {},
   "outputs": [],
   "source": [
    "# Read URLs from the text file\n",
    "with open(urls_file_path, 'r') as file:\n",
    "    urls = [line.strip() for line in file.readlines()]\n",
    "\n",
    "# Initialize a list to store all table data\n",
    "all_table_data = []"
   ]
  },
  {
   "cell_type": "code",
   "execution_count": 4,
   "id": "8510ddb9-e7e0-4244-acc2-5e7507c7ebfa",
   "metadata": {},
   "outputs": [],
   "source": [
    "# Function to scrape data from a given URL\n",
    "def scrape_data(url):\n",
    "    response = requests.get(url)\n",
    "    if response.status_code == 200: # Check if the request was successful\n",
    "        html_content = response.content\n",
    "        soup = BeautifulSoup(html_content, 'html.parser')\n",
    "        \n",
    "        # Find the header text containing constituency and state information\n",
    "        header_h2 = soup.find('h2')\n",
    "        if header_h2:\n",
    "            span_tag = header_h2.find('span')\n",
    "            strong_tag = header_h2.find('strong')\n",
    "            if span_tag and strong_tag:\n",
    "                constituency = span_tag.text.split('(')[0].strip()\n",
    "                state = strong_tag.text.strip()[1:-1]\n",
    "            else:\n",
    "                constituency = \"Unknown Constituency\"\n",
    "                state = \"Unknown State\"\n",
    "        else:\n",
    "            constituency = \"Unknown Constituency\"\n",
    "            state = \"Unknown State\"\n",
    "\n",
    "        # Find the table containing the data\n",
    "        table = soup.find('table')\n",
    "\n",
    "        # Initialize a list to store table data\n",
    "        table_data = []\n",
    "\n",
    "        # Check if the table exists\n",
    "        if table:\n",
    "            # Iterate through the rows of the table\n",
    "            for row in table.find_all('tr'):\n",
    "                # Extract the columns\n",
    "                cols = row.find_all('td')\n",
    "                # Get the text from each column and print it\n",
    "                if cols:\n",
    "                    cols = [col.text.strip() for col in cols]\n",
    "                    cols.insert(1, state)  # Insert state after S.N.\n",
    "                    cols.insert(2, constituency)  # Insert constituency after state\n",
    "                    table_data.append(cols)\n",
    "        return table_data\n",
    "    else:\n",
    "        print(f\"Failed to retrieve the page at {url}\")\n",
    "        return []"
   ]
  },
  {
   "cell_type": "code",
   "execution_count": 11,
   "id": "d00f0105-5580-436b-af98-bb924ab7fef2",
   "metadata": {},
   "outputs": [],
   "source": [
    "# Scrape data from each URL and append it to all_table_data\n",
    "for url in urls:\n",
    "    data = scrape_data(url)\n",
    "    all_table_data.extend(data)"
   ]
  },
  {
   "cell_type": "code",
   "execution_count": 7,
   "id": "5960a15a-63ba-48dd-86f8-ffabfac0fae4",
   "metadata": {},
   "outputs": [],
   "source": [
    "# Path to the Excel file on the desktop\n",
    "desktop_path = os.path.join(os.path.join(os.environ['USERPROFILE']), 'Desktop')\n",
    "file_path = os.path.join(desktop_path, 'ECI 2024 LS Data.xlsx')"
   ]
  },
  {
   "cell_type": "code",
   "execution_count": 8,
   "id": "9342673d-c5c9-45cf-8b0f-87dcb4b39324",
   "metadata": {},
   "outputs": [],
   "source": [
    "# Specify the order of columns\n",
    "columns = [\"S.N.\", \"State\", \"Constituency\", \"Candidate\", \"Party\", \"EVM Votes\", \"Postal Votes\", \"Total Votes\", \"% of Votes\"]\n",
    "\n",
    "# Convert JSON data to DataFrame\n",
    "df = pd.DataFrame(all_table_data, columns=columns)\n"
   ]
  },
  {
   "cell_type": "code",
   "execution_count": 9,
   "id": "fce16a50-5eec-4dc5-81ed-f8dbcadfb44c",
   "metadata": {},
   "outputs": [],
   "source": [
    "# Convert the specified columns to numeric format\n",
    "numeric_columns = [\"S.N.\", \"EVM Votes\", \"Postal Votes\", \"Total Votes\", \"% of Votes\"]\n",
    "df[numeric_columns] = df[numeric_columns].apply(pd.to_numeric, errors='coerce')\n"
   ]
  },
  {
   "cell_type": "code",
   "execution_count": 12,
   "id": "75bc305f-a9e8-4509-9ab8-b71f167f99de",
   "metadata": {},
   "outputs": [
    {
     "name": "stdout",
     "output_type": "stream",
     "text": [
      "Data written to C:\\Users\\prisi\\Desktop\\ECI 2024 LS Data.xlsx\n"
     ]
    }
   ],
   "source": [
    "# Write DataFrame to Excel file\n",
    "df.to_excel(file_path, index=False, sheet_name='Sheet 1')\n",
    "\n",
    "print(f\"Data written to {file_path}\")"
   ]
  },
  {
   "cell_type": "code",
   "execution_count": null,
   "id": "9e1090ca-75bc-4551-be5c-a1063e46119f",
   "metadata": {},
   "outputs": [],
   "source": []
  },
  {
   "cell_type": "code",
   "execution_count": null,
   "id": "249aaa6b-0038-4456-89a3-3c6450e678d6",
   "metadata": {},
   "outputs": [],
   "source": []
  }
 ],
 "metadata": {
  "kernelspec": {
   "display_name": "Python 3 (ipykernel)",
   "language": "python",
   "name": "python3"
  },
  "language_info": {
   "codemirror_mode": {
    "name": "ipython",
    "version": 3
   },
   "file_extension": ".py",
   "mimetype": "text/x-python",
   "name": "python",
   "nbconvert_exporter": "python",
   "pygments_lexer": "ipython3",
   "version": "3.11.5"
  },
  "widgets": {
   "application/vnd.jupyter.widget-state+json": {
    "state": {},
    "version_major": 2,
    "version_minor": 0
   }
  }
 },
 "nbformat": 4,
 "nbformat_minor": 5
}
